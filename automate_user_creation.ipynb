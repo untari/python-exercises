{
  "nbformat": 4,
  "nbformat_minor": 0,
  "metadata": {
    "colab": {
      "provenance": []
    },
    "kernelspec": {
      "name": "python3",
      "display_name": "Python 3"
    },
    "language_info": {
      "name": "python"
    }
  },
  "cells": [
    {
      "cell_type": "code",
      "source": [
        "import csv\n",
        "import secrets\n",
        "import string\n",
        "import subprocess\n",
        "from pathlib import Path"
      ],
      "metadata": {
        "id": "c0Qns-peANu9"
      },
      "execution_count": 1,
      "outputs": []
    },
    {
      "cell_type": "code",
      "source": [
        "cwd = Path.cwd()\n",
        "input_file = cwd / 'users_in.csv'\n",
        "output_file = cwd / 'users_out.csv'"
      ],
      "metadata": {
        "id": "kKCnQ85yD1WG"
      },
      "execution_count": 2,
      "outputs": []
    },
    {
      "cell_type": "code",
      "source": [
        "def generate_password(length=10):\n",
        "  alphabet = string.ascii_letters + string.digits + string.punctuation\n",
        "  while True:\n",
        "    password = ''.join(secrets.choice(alphabet) for i in range(length))\n",
        "    # ensure the password has least one of each type\n",
        "    if (any(c.islower() for c in password)\n",
        "      and any(c.isupper() for c in password)\n",
        "      and any(c.isdigit() for c in password)\n",
        "      and any(c in string.punctuation for c in password)):\n",
        "      return password"
      ],
      "metadata": {
        "id": "YHHaAwpIEHJI"
      },
      "execution_count": 3,
      "outputs": []
    },
    {
      "cell_type": "code",
      "source": [
        "users = []\n",
        "\n",
        "with open(input_file, newline = ' ') as csvfile:\n",
        "  reader = csv.DitchReader(csvfile)\n",
        "  for row in reader:\n",
        "    username = row['username']\n",
        "    real_name = row['real_name']\n",
        "    password = generate_password()\n",
        "\n",
        "    # add user to the system(linux only)\n",
        "    try:\n",
        "      subprocess.run(['sudo', 'useradd', '-m', '-c', real_name, username], check=True)\n",
        "      subprocess.run(['sudo', 'chpasswd'], input=f\"{username}:{password}\".encode(), check=True)\n",
        "    except subprocess.CalledProcessError as e:\n",
        "      print(f\"Error adding user {username}: {e}\")\n",
        "      continue\n",
        "\n",
        "    # save data with password\n",
        "    users.append({\n",
        "        'username': username,\n",
        "        'password': password,\n",
        "        'real_name': real_name\n",
        "    })"
      ],
      "metadata": {
        "colab": {
          "base_uri": "https://localhost:8080/",
          "height": 216
        },
        "id": "E7Yb0xp9FU1l",
        "outputId": "f9532146-ec3b-4088-f918-8643c983715a"
      },
      "execution_count": 4,
      "outputs": [
        {
          "output_type": "error",
          "ename": "FileNotFoundError",
          "evalue": "[Errno 2] No such file or directory: '/content/users_in.csv'",
          "traceback": [
            "\u001b[0;31m---------------------------------------------------------------------------\u001b[0m",
            "\u001b[0;31mFileNotFoundError\u001b[0m                         Traceback (most recent call last)",
            "\u001b[0;32m<ipython-input-4-6cc2f5cede0a>\u001b[0m in \u001b[0;36m<cell line: 0>\u001b[0;34m()\u001b[0m\n\u001b[1;32m      1\u001b[0m \u001b[0musers\u001b[0m \u001b[0;34m=\u001b[0m \u001b[0;34m[\u001b[0m\u001b[0;34m]\u001b[0m\u001b[0;34m\u001b[0m\u001b[0;34m\u001b[0m\u001b[0m\n\u001b[1;32m      2\u001b[0m \u001b[0;34m\u001b[0m\u001b[0m\n\u001b[0;32m----> 3\u001b[0;31m \u001b[0;32mwith\u001b[0m \u001b[0mopen\u001b[0m\u001b[0;34m(\u001b[0m\u001b[0minput_file\u001b[0m\u001b[0;34m,\u001b[0m \u001b[0mnewline\u001b[0m \u001b[0;34m=\u001b[0m \u001b[0;34m' '\u001b[0m\u001b[0;34m)\u001b[0m \u001b[0;32mas\u001b[0m \u001b[0mcsvfile\u001b[0m\u001b[0;34m:\u001b[0m\u001b[0;34m\u001b[0m\u001b[0;34m\u001b[0m\u001b[0m\n\u001b[0m\u001b[1;32m      4\u001b[0m   \u001b[0mreader\u001b[0m \u001b[0;34m=\u001b[0m \u001b[0mcsv\u001b[0m\u001b[0;34m.\u001b[0m\u001b[0mDitchReader\u001b[0m\u001b[0;34m(\u001b[0m\u001b[0mcsvfile\u001b[0m\u001b[0;34m)\u001b[0m\u001b[0;34m\u001b[0m\u001b[0;34m\u001b[0m\u001b[0m\n\u001b[1;32m      5\u001b[0m   \u001b[0;32mfor\u001b[0m \u001b[0mrow\u001b[0m \u001b[0;32min\u001b[0m \u001b[0mreader\u001b[0m\u001b[0;34m:\u001b[0m\u001b[0;34m\u001b[0m\u001b[0;34m\u001b[0m\u001b[0m\n",
            "\u001b[0;31mFileNotFoundError\u001b[0m: [Errno 2] No such file or directory: '/content/users_in.csv'"
          ]
        }
      ]
    }
  ]
}