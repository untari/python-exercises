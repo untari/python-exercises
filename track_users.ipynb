{
  "nbformat": 4,
  "nbformat_minor": 0,
  "metadata": {
    "colab": {
      "provenance": []
    },
    "kernelspec": {
      "name": "python3",
      "display_name": "Python 3"
    },
    "language_info": {
      "name": "python"
    }
  },
  "cells": [
    {
      "cell_type": "code",
      "execution_count": 21,
      "metadata": {
        "id": "oX84n1ynX-uy"
      },
      "outputs": [],
      "source": [
        "def get_event_date(event):\n",
        "    return event.date\n",
        "\n",
        "\n",
        "def current_users(events):\n",
        "    events.sort(key=get_event_date)\n",
        "    machines = {}\n",
        "    for event in events:\n",
        "        if event.machine not in machines:\n",
        "            machines[event.machine] = set()\n",
        "        if event.type == \"login\":\n",
        "            machines[event.machine].add(event.user)\n",
        "        elif event.type == \"logout\":\n",
        "            machines[event.machine].remove(event.user)\n",
        "    return machines\n",
        "\n",
        "def generate_report(machines):\n",
        "    for machine, users in machines.items():\n",
        "        if len (users) > 0:\n",
        "            user_list = \",\".join(users)\n",
        "            print(\"{}: {}\".format(machine, user_list))"
      ]
    },
    {
      "cell_type": "code",
      "source": [
        "class Event:\n",
        "    def __init__(self, event_date, event_type, machine_name, user):\n",
        "        self.date = event_date\n",
        "        self.type = event_type\n",
        "        self.machine = machine_name\n",
        "        self.user = user"
      ],
      "metadata": {
        "id": "oOEDVkK6YbYh"
      },
      "execution_count": 22,
      "outputs": []
    },
    {
      "cell_type": "code",
      "source": [
        "events = [\n",
        "    Event('2020-01-21 12:45:46', 'login', 'myworkstation.local', 'jordan'),\n",
        "    Event('2020-01-22 15:53:42', 'logout', 'webserver.local', 'jordan'),\n",
        "    Event('2020-01-21 18:53:21', 'login', 'webserver.local', 'lane'),\n",
        "    Event('2020-01-22 10:25:34', 'logout', 'myworkstation.local', 'jordan'),\n",
        "    Event('2020-01-21 08:20:01', 'login', 'webserver.local', 'jordan'),\n",
        "    Event('2020-01-23 11:24:35', 'login', 'mailserver.local', 'chris'),\n",
        "]"
      ],
      "metadata": {
        "id": "1z9WHTxsYuFD"
      },
      "execution_count": 23,
      "outputs": []
    },
    {
      "cell_type": "code",
      "source": [
        "users = current_users(events)\n",
        "print(users)"
      ],
      "metadata": {
        "colab": {
          "base_uri": "https://localhost:8080/"
        },
        "id": "CrQcsOMDZI5e",
        "outputId": "ffff07db-8606-4c4a-b688-a6cadf9d5623"
      },
      "execution_count": 24,
      "outputs": [
        {
          "output_type": "stream",
          "name": "stdout",
          "text": [
            "{'webserver.local': {'lane'}, 'myworkstation.local': set(), 'mailserver.local': {'chris'}}\n"
          ]
        }
      ]
    },
    {
      "cell_type": "code",
      "source": [
        "generate_report(users)"
      ],
      "metadata": {
        "colab": {
          "base_uri": "https://localhost:8080/"
        },
        "id": "Zeh8TH78aaXt",
        "outputId": "daf59de4-b06a-4230-f7d0-32ab2e07eac7"
      },
      "execution_count": 25,
      "outputs": [
        {
          "output_type": "stream",
          "name": "stdout",
          "text": [
            "webserver.local: lane\n",
            "mailserver.local: chris\n"
          ]
        }
      ]
    }
  ]
}